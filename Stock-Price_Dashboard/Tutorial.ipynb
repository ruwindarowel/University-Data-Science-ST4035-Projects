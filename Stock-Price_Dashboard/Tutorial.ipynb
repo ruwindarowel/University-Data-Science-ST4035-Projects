{
 "cells": [
  {
   "cell_type": "code",
   "execution_count": 1,
   "metadata": {},
   "outputs": [],
   "source": [
    "import yfinance as yf\n",
    "import pandas as pd\n",
    "from datetime import date\n",
    "\n",
    "import matplotlib.pyplot as plt\n",
    "\n",
    "from sklearn.model_selection import train_test_split\n",
    "from sklearn.ensemble import RandomForestClassifier\n",
    "from sklearn.metrics import accuracy_score\n",
    "import numpy as np\n",
    "from sklearn.preprocessing import MinMaxScaler\n",
    "\n",
    "from tensorflow.keras.models import Sequential\n",
    "from tensorflow.keras.layers import Dense, LSTM, Dropout\n",
    "\n",
    "import pickle\n",
    "\n",
    "import warnings\n",
    "warnings.filterwarnings('ignore')"
   ]
  },
  {
   "cell_type": "code",
   "execution_count": 2,
   "metadata": {},
   "outputs": [
    {
     "data": {
      "text/plain": [
       "-3.084994596310445"
      ]
     },
     "execution_count": 2,
     "metadata": {},
     "output_type": "execute_result"
    }
   ],
   "source": [
    "np.random.randn()"
   ]
  },
  {
   "cell_type": "code",
   "execution_count": 3,
   "metadata": {},
   "outputs": [
    {
     "name": "stderr",
     "output_type": "stream",
     "text": [
      "[*********************100%***********************]  1 of 1 completed\n",
      "[*********************100%***********************]  1 of 1 completed\n",
      "[*********************100%***********************]  1 of 1 completed\n",
      "[*********************100%***********************]  1 of 1 completed\n",
      "[*********************100%***********************]  1 of 1 completed\n"
     ]
    }
   ],
   "source": [
    "today = date.today()\n",
    "\n",
    "data_tesla = yf.download('TSLA', period='1y', interval='1h')\n",
    "data_google = yf.download('GOOGL', period='1y', interval='1h')\n",
    "data_meta = yf.download('META', period='1y', interval='1h')\n",
    "data_amazon = yf.download('AMZN', period='1y', interval='1h')\n",
    "data_nvidia = yf.download('NVDA', period='1y', interval='1h')"
   ]
  },
  {
   "cell_type": "code",
   "execution_count": 4,
   "metadata": {},
   "outputs": [],
   "source": [
    "data_tesla.to_csv(\"./Data/tesla.csv\")\n",
    "data_google.to_csv(\"./Data/google.csv\")\n",
    "data_meta.to_csv(\"./Data/meta.csv\")\n",
    "data_amazon.to_csv(\"./Data/amazon.csv\")\n",
    "data_nvidia.to_csv(\"./Data/nvidia.csv\")"
   ]
  },
  {
   "cell_type": "code",
   "execution_count": 5,
   "metadata": {},
   "outputs": [
    {
     "data": {
      "text/plain": [
       "DatetimeIndex(['2023-09-05 09:30:00-04:00', '2023-09-05 10:30:00-04:00',\n",
       "               '2023-09-05 11:30:00-04:00', '2023-09-05 12:30:00-04:00',\n",
       "               '2023-09-05 13:30:00-04:00', '2023-09-05 14:30:00-04:00',\n",
       "               '2023-09-05 15:30:00-04:00', '2023-09-06 09:30:00-04:00',\n",
       "               '2023-09-06 10:30:00-04:00', '2023-09-06 11:30:00-04:00',\n",
       "               ...\n",
       "               '2024-09-03 13:30:00-04:00', '2024-09-03 14:30:00-04:00',\n",
       "               '2024-09-03 15:30:00-04:00', '2024-09-04 09:30:00-04:00',\n",
       "               '2024-09-04 10:30:00-04:00', '2024-09-04 11:30:00-04:00',\n",
       "               '2024-09-04 12:30:00-04:00', '2024-09-04 13:30:00-04:00',\n",
       "               '2024-09-04 14:30:00-04:00', '2024-09-04 15:30:00-04:00'],\n",
       "              dtype='datetime64[ns, America/New_York]', name='Datetime', length=1756, freq=None)"
      ]
     },
     "execution_count": 5,
     "metadata": {},
     "output_type": "execute_result"
    }
   ],
   "source": [
    "data_tesla.index"
   ]
  },
  {
   "cell_type": "code",
   "execution_count": 7,
   "metadata": {},
   "outputs": [],
   "source": [
    "def calc_up_down(data):\n",
    "    data['Return'] = data['Close'].pct_change()\n",
    "    data['Direction'] = data['Return'].apply(lambda x: 1 if x > 0 else 0)\n",
    "\n",
    "    data = data.dropna()\n",
    "\n",
    "    X = data[['Open', 'High', 'Low', 'Close', 'Volume']]\n",
    "    y = data['Direction']\n",
    "\n",
    "    X_train, X_test, y_train, y_test = train_test_split(X, y, test_size=0.2, random_state=42)\n",
    "\n",
    "    model = RandomForestClassifier()\n",
    "    model.fit(X_train, y_train)\n",
    "\n",
    "    next_hour_direction = model.predict([X.iloc[-1]])[0]\n",
    "    direction_str = 'Up' if next_hour_direction == 1 else 'Down'\n",
    "    print(X_train.shape)\n",
    "    print(f'Predicted direction for the next hour: {direction_str}')\n",
    "\n",
    "    predictions = model.predict(X_test)\n",
    "    accuracy = accuracy_score(y_test, predictions)\n",
    "    print(f'Model accuracy: {accuracy * 100:.2f}%')\n",
    "   \n",
    "    return model, predictions"
   ]
  },
  {
   "cell_type": "code",
   "execution_count": null,
   "metadata": {},
   "outputs": [],
   "source": []
  },
  {
   "cell_type": "code",
   "execution_count": 8,
   "metadata": {},
   "outputs": [
    {
     "name": "stdout",
     "output_type": "stream",
     "text": [
      "(1404, 5)\n",
      "Predicted direction for the next hour: Up\n",
      "Model accuracy: 77.49%\n",
      "(1404, 5)\n",
      "Predicted direction for the next hour: Down\n",
      "Model accuracy: 70.94%\n",
      "(1404, 5)\n",
      "Predicted direction for the next hour: Up\n",
      "Model accuracy: 71.23%\n",
      "(1404, 5)\n",
      "Predicted direction for the next hour: Up\n",
      "Model accuracy: 72.93%\n",
      "(1404, 5)\n",
      "Predicted direction for the next hour: Down\n",
      "Model accuracy: 72.36%\n"
     ]
    }
   ],
   "source": [
    "tesla_up_down, tesla_pred = calc_up_down(data_tesla)\n",
    "google_up_down, google_pred = calc_up_down(data_google)\n",
    "nvidia_up_down, nvida_pred = calc_up_down(data_nvidia)\n",
    "amazon_up_down, amazon_pred = calc_up_down(data_amazon)\n",
    "meta_up_down, meta_pred = calc_up_down(data_meta)"
   ]
  },
  {
   "cell_type": "code",
   "execution_count": 31,
   "metadata": {},
   "outputs": [
    {
     "data": {
      "text/plain": [
       "{'tesla': [                                 Open        High         Low       Close  \\\n",
       "  Datetime                                                                    \n",
       "  2023-09-05 09:30:00-04:00  245.000000  253.720001  244.860001  252.149994   \n",
       "  2023-09-05 10:30:00-04:00  252.149307  253.990005  251.080002  252.289993   \n",
       "  2023-09-05 11:30:00-04:00  252.274902  255.809998  252.091995  255.514404   \n",
       "  2023-09-05 12:30:00-04:00  255.550003  256.899994  255.139999  255.360001   \n",
       "  2023-09-05 13:30:00-04:00  255.350006  257.500000  255.100006  257.321594   \n",
       "  ...                               ...         ...         ...         ...   \n",
       "  2024-09-04 09:30:00-04:00  210.759995  219.490005  210.619995  219.414993   \n",
       "  2024-09-04 10:30:00-04:00  219.380096  221.330002  218.759995  219.809998   \n",
       "  2024-09-04 11:30:00-04:00  219.815002  220.839996  218.516006  220.740005   \n",
       "  2024-09-04 12:30:00-04:00  220.720093  222.220001  220.720093  220.955002   \n",
       "  2024-09-04 13:30:00-04:00  220.910004  221.249207  220.330002  220.675003   \n",
       "  \n",
       "                              Adj Close    Volume    Return  Direction  \n",
       "  Datetime                                                              \n",
       "  2023-09-05 09:30:00-04:00  252.149994  42978033       NaN          0  \n",
       "  2023-09-05 10:30:00-04:00  252.289993  19399372  0.000555          1  \n",
       "  2023-09-05 11:30:00-04:00  255.514404  15227832  0.012781          1  \n",
       "  2023-09-05 12:30:00-04:00  255.360001  14724897 -0.000604          0  \n",
       "  2023-09-05 13:30:00-04:00  257.321594  12871130  0.007682          1  \n",
       "  ...                               ...       ...       ...        ...  \n",
       "  2024-09-04 09:30:00-04:00  219.414993  27379447  0.041659          1  \n",
       "  2024-09-04 10:30:00-04:00  219.809998  14812184  0.001800          1  \n",
       "  2024-09-04 11:30:00-04:00  220.740005   7876736  0.004231          1  \n",
       "  2024-09-04 12:30:00-04:00  220.955002   8637924  0.000974          1  \n",
       "  2024-09-04 13:30:00-04:00  220.675003   1834070 -0.001267          0  \n",
       "  \n",
       "  [1754 rows x 8 columns],\n",
       "  RandomForestClassifier()]}"
      ]
     },
     "execution_count": 31,
     "metadata": {},
     "output_type": "execute_result"
    }
   ],
   "source": [
    "{\n",
    "    \"tesla\":[data_tesla,tesla_up_down]\n",
    "}"
   ]
  },
  {
   "cell_type": "code",
   "execution_count": 32,
   "metadata": {},
   "outputs": [],
   "source": [
    "with open(\"tesla_up_down.pkl\",\"wb\") as f:\n",
    "    pickle.dump(tesla_up_down,f)\n",
    "with open(\"google_up_down.pkl\",\"wb\") as f:\n",
    "    pickle.dump(google_up_down,f)\n",
    "with open(\"nvidia_up_down.pkl\",\"wb\") as f:\n",
    "    pickle.dump(nvidia_up_down,f)\n",
    "with open(\"amazon_up_down.pkl\",\"wb\") as f:\n",
    "    pickle.dump(amazon_up_down,f)\n",
    "with open(\"meta_up_down.pkl\",\"wb\") as f:\n",
    "    pickle.dump(meta_up_down,f)"
   ]
  },
  {
   "cell_type": "code",
   "execution_count": 33,
   "metadata": {},
   "outputs": [],
   "source": [
    "def preprocess_for_forecasting(data):\n",
    "    close_prices = data['Close'].values\n",
    "    close_prices = close_prices.reshape(-1, 1)\n",
    "    \n",
    "    scaler = MinMaxScaler(feature_range=(0, 1))\n",
    "    scaled_data = scaler.fit_transform(close_prices)\n",
    "    \n",
    "    look_back = 60\n",
    "\n",
    "    X, y = [], []\n",
    "    for i in range(look_back, len(scaled_data)):\n",
    "        X.append(scaled_data[i-look_back:i, 0])\n",
    "        y.append(scaled_data[i, 0])\n",
    "        \n",
    "    X = np.array(X)\n",
    "    y = np.array(y)\n",
    "    X = np.reshape(X, (X.shape[0], X.shape[1], 1))\n",
    "    print(f\"Shape of X: {X.shape}, Shape of y: {y.shape}\")\n",
    "    \n",
    "    return X,y\n",
    "\n",
    "def forecasting_model(data):\n",
    "    X,y = preprocess_for_forecasting(data)\n",
    "    \n",
    "    model = Sequential()\n",
    "    \n",
    "    model.add(LSTM(units=50, return_sequences=True, input_shape=(X.shape[1], 1)))\n",
    "    model.add(Dropout(0.2))\n",
    "    model.add(LSTM(units=50, return_sequences=False))\n",
    "    model.add(Dropout(0.2))\n",
    "    model.add(Dense(units=25))\n",
    "    model.add(Dense(units=1))\n",
    "    \n",
    "    model.compile(optimizer='adam', loss='mean_squared_error')\n",
    "    model.fit(X, y, epochs=10, batch_size=32)\n",
    "    \n",
    "    return model"
   ]
  },
  {
   "cell_type": "code",
   "execution_count": 34,
   "metadata": {},
   "outputs": [
    {
     "name": "stdout",
     "output_type": "stream",
     "text": [
      "Shape of X: (1694, 60, 1), Shape of y: (1694,)\n",
      "Epoch 1/10\n",
      "\u001b[1m53/53\u001b[0m \u001b[32m━━━━━━━━━━━━━━━━━━━━\u001b[0m\u001b[37m\u001b[0m \u001b[1m9s\u001b[0m 45ms/step - loss: 0.0903\n",
      "Epoch 2/10\n",
      "\u001b[1m53/53\u001b[0m \u001b[32m━━━━━━━━━━━━━━━━━━━━\u001b[0m\u001b[37m\u001b[0m \u001b[1m2s\u001b[0m 46ms/step - loss: 0.0053\n",
      "Epoch 3/10\n",
      "\u001b[1m53/53\u001b[0m \u001b[32m━━━━━━━━━━━━━━━━━━━━\u001b[0m\u001b[37m\u001b[0m \u001b[1m3s\u001b[0m 47ms/step - loss: 0.0049\n",
      "Epoch 4/10\n",
      "\u001b[1m53/53\u001b[0m \u001b[32m━━━━━━━━━━━━━━━━━━━━\u001b[0m\u001b[37m\u001b[0m \u001b[1m2s\u001b[0m 45ms/step - loss: 0.0043\n",
      "Epoch 5/10\n",
      "\u001b[1m53/53\u001b[0m \u001b[32m━━━━━━━━━━━━━━━━━━━━\u001b[0m\u001b[37m\u001b[0m \u001b[1m2s\u001b[0m 43ms/step - loss: 0.0043\n",
      "Epoch 6/10\n",
      "\u001b[1m53/53\u001b[0m \u001b[32m━━━━━━━━━━━━━━━━━━━━\u001b[0m\u001b[37m\u001b[0m \u001b[1m3s\u001b[0m 47ms/step - loss: 0.0039\n",
      "Epoch 7/10\n",
      "\u001b[1m53/53\u001b[0m \u001b[32m━━━━━━━━━━━━━━━━━━━━\u001b[0m\u001b[37m\u001b[0m \u001b[1m2s\u001b[0m 44ms/step - loss: 0.0038\n",
      "Epoch 8/10\n",
      "\u001b[1m53/53\u001b[0m \u001b[32m━━━━━━━━━━━━━━━━━━━━\u001b[0m\u001b[37m\u001b[0m \u001b[1m2s\u001b[0m 44ms/step - loss: 0.0031\n",
      "Epoch 9/10\n",
      "\u001b[1m53/53\u001b[0m \u001b[32m━━━━━━━━━━━━━━━━━━━━\u001b[0m\u001b[37m\u001b[0m \u001b[1m2s\u001b[0m 44ms/step - loss: 0.0030\n",
      "Epoch 10/10\n",
      "\u001b[1m53/53\u001b[0m \u001b[32m━━━━━━━━━━━━━━━━━━━━\u001b[0m\u001b[37m\u001b[0m \u001b[1m2s\u001b[0m 44ms/step - loss: 0.0031\n",
      "Shape of X: (1694, 60, 1), Shape of y: (1694,)\n",
      "Epoch 1/10\n",
      "\u001b[1m53/53\u001b[0m \u001b[32m━━━━━━━━━━━━━━━━━━━━\u001b[0m\u001b[37m\u001b[0m \u001b[1m10s\u001b[0m 46ms/step - loss: 0.0392\n",
      "Epoch 2/10\n",
      "\u001b[1m53/53\u001b[0m \u001b[32m━━━━━━━━━━━━━━━━━━━━\u001b[0m\u001b[37m\u001b[0m \u001b[1m3s\u001b[0m 46ms/step - loss: 0.0033\n",
      "Epoch 3/10\n",
      "\u001b[1m53/53\u001b[0m \u001b[32m━━━━━━━━━━━━━━━━━━━━\u001b[0m\u001b[37m\u001b[0m \u001b[1m2s\u001b[0m 46ms/step - loss: 0.0034\n",
      "Epoch 4/10\n",
      "\u001b[1m53/53\u001b[0m \u001b[32m━━━━━━━━━━━━━━━━━━━━\u001b[0m\u001b[37m\u001b[0m \u001b[1m3s\u001b[0m 46ms/step - loss: 0.0028\n",
      "Epoch 5/10\n",
      "\u001b[1m53/53\u001b[0m \u001b[32m━━━━━━━━━━━━━━━━━━━━\u001b[0m\u001b[37m\u001b[0m \u001b[1m3s\u001b[0m 47ms/step - loss: 0.0028\n",
      "Epoch 6/10\n",
      "\u001b[1m53/53\u001b[0m \u001b[32m━━━━━━━━━━━━━━━━━━━━\u001b[0m\u001b[37m\u001b[0m \u001b[1m3s\u001b[0m 47ms/step - loss: 0.0024\n",
      "Epoch 7/10\n",
      "\u001b[1m53/53\u001b[0m \u001b[32m━━━━━━━━━━━━━━━━━━━━\u001b[0m\u001b[37m\u001b[0m \u001b[1m2s\u001b[0m 46ms/step - loss: 0.0023\n",
      "Epoch 8/10\n",
      "\u001b[1m53/53\u001b[0m \u001b[32m━━━━━━━━━━━━━━━━━━━━\u001b[0m\u001b[37m\u001b[0m \u001b[1m3s\u001b[0m 47ms/step - loss: 0.0022\n",
      "Epoch 9/10\n",
      "\u001b[1m53/53\u001b[0m \u001b[32m━━━━━━━━━━━━━━━━━━━━\u001b[0m\u001b[37m\u001b[0m \u001b[1m3s\u001b[0m 48ms/step - loss: 0.0021\n",
      "Epoch 10/10\n",
      "\u001b[1m53/53\u001b[0m \u001b[32m━━━━━━━━━━━━━━━━━━━━\u001b[0m\u001b[37m\u001b[0m \u001b[1m3s\u001b[0m 47ms/step - loss: 0.0020\n",
      "Shape of X: (1694, 60, 1), Shape of y: (1694,)\n",
      "Epoch 1/10\n",
      "\u001b[1m53/53\u001b[0m \u001b[32m━━━━━━━━━━━━━━━━━━━━\u001b[0m\u001b[37m\u001b[0m \u001b[1m8s\u001b[0m 45ms/step - loss: 0.0544\n",
      "Epoch 2/10\n",
      "\u001b[1m53/53\u001b[0m \u001b[32m━━━━━━━━━━━━━━━━━━━━\u001b[0m\u001b[37m\u001b[0m \u001b[1m2s\u001b[0m 44ms/step - loss: 0.0030\n",
      "Epoch 3/10\n",
      "\u001b[1m53/53\u001b[0m \u001b[32m━━━━━━━━━━━━━━━━━━━━\u001b[0m\u001b[37m\u001b[0m \u001b[1m2s\u001b[0m 44ms/step - loss: 0.0034\n",
      "Epoch 4/10\n",
      "\u001b[1m53/53\u001b[0m \u001b[32m━━━━━━━━━━━━━━━━━━━━\u001b[0m\u001b[37m\u001b[0m \u001b[1m2s\u001b[0m 45ms/step - loss: 0.0029\n",
      "Epoch 5/10\n",
      "\u001b[1m53/53\u001b[0m \u001b[32m━━━━━━━━━━━━━━━━━━━━\u001b[0m\u001b[37m\u001b[0m \u001b[1m2s\u001b[0m 43ms/step - loss: 0.0023\n",
      "Epoch 6/10\n",
      "\u001b[1m53/53\u001b[0m \u001b[32m━━━━━━━━━━━━━━━━━━━━\u001b[0m\u001b[37m\u001b[0m \u001b[1m2s\u001b[0m 45ms/step - loss: 0.0027\n",
      "Epoch 7/10\n",
      "\u001b[1m53/53\u001b[0m \u001b[32m━━━━━━━━━━━━━━━━━━━━\u001b[0m\u001b[37m\u001b[0m \u001b[1m3s\u001b[0m 48ms/step - loss: 0.0022\n",
      "Epoch 8/10\n",
      "\u001b[1m53/53\u001b[0m \u001b[32m━━━━━━━━━━━━━━━━━━━━\u001b[0m\u001b[37m\u001b[0m \u001b[1m2s\u001b[0m 44ms/step - loss: 0.0020\n",
      "Epoch 9/10\n",
      "\u001b[1m53/53\u001b[0m \u001b[32m━━━━━━━━━━━━━━━━━━━━\u001b[0m\u001b[37m\u001b[0m \u001b[1m3s\u001b[0m 47ms/step - loss: 0.0019\n",
      "Epoch 10/10\n",
      "\u001b[1m53/53\u001b[0m \u001b[32m━━━━━━━━━━━━━━━━━━━━\u001b[0m\u001b[37m\u001b[0m \u001b[1m2s\u001b[0m 44ms/step - loss: 0.0018\n",
      "Shape of X: (1694, 60, 1), Shape of y: (1694,)\n",
      "Epoch 1/10\n",
      "\u001b[1m53/53\u001b[0m \u001b[32m━━━━━━━━━━━━━━━━━━━━\u001b[0m\u001b[37m\u001b[0m \u001b[1m8s\u001b[0m 43ms/step - loss: 0.1044\n",
      "Epoch 2/10\n",
      "\u001b[1m53/53\u001b[0m \u001b[32m━━━━━━━━━━━━━━━━━━━━\u001b[0m\u001b[37m\u001b[0m \u001b[1m2s\u001b[0m 44ms/step - loss: 0.0054\n",
      "Epoch 3/10\n",
      "\u001b[1m53/53\u001b[0m \u001b[32m━━━━━━━━━━━━━━━━━━━━\u001b[0m\u001b[37m\u001b[0m \u001b[1m2s\u001b[0m 46ms/step - loss: 0.0044\n",
      "Epoch 4/10\n",
      "\u001b[1m53/53\u001b[0m \u001b[32m━━━━━━━━━━━━━━━━━━━━\u001b[0m\u001b[37m\u001b[0m \u001b[1m2s\u001b[0m 45ms/step - loss: 0.0039\n",
      "Epoch 5/10\n",
      "\u001b[1m53/53\u001b[0m \u001b[32m━━━━━━━━━━━━━━━━━━━━\u001b[0m\u001b[37m\u001b[0m \u001b[1m2s\u001b[0m 42ms/step - loss: 0.0035\n",
      "Epoch 6/10\n",
      "\u001b[1m53/53\u001b[0m \u001b[32m━━━━━━━━━━━━━━━━━━━━\u001b[0m\u001b[37m\u001b[0m \u001b[1m2s\u001b[0m 42ms/step - loss: 0.0034\n",
      "Epoch 7/10\n",
      "\u001b[1m53/53\u001b[0m \u001b[32m━━━━━━━━━━━━━━━━━━━━\u001b[0m\u001b[37m\u001b[0m \u001b[1m2s\u001b[0m 43ms/step - loss: 0.0034\n",
      "Epoch 8/10\n",
      "\u001b[1m53/53\u001b[0m \u001b[32m━━━━━━━━━━━━━━━━━━━━\u001b[0m\u001b[37m\u001b[0m \u001b[1m2s\u001b[0m 42ms/step - loss: 0.0035\n",
      "Epoch 9/10\n",
      "\u001b[1m53/53\u001b[0m \u001b[32m━━━━━━━━━━━━━━━━━━━━\u001b[0m\u001b[37m\u001b[0m \u001b[1m2s\u001b[0m 44ms/step - loss: 0.0030\n",
      "Epoch 10/10\n",
      "\u001b[1m53/53\u001b[0m \u001b[32m━━━━━━━━━━━━━━━━━━━━\u001b[0m\u001b[37m\u001b[0m \u001b[1m2s\u001b[0m 46ms/step - loss: 0.0027\n",
      "Shape of X: (1694, 60, 1), Shape of y: (1694,)\n",
      "Epoch 1/10\n",
      "\u001b[1m53/53\u001b[0m \u001b[32m━━━━━━━━━━━━━━━━━━━━\u001b[0m\u001b[37m\u001b[0m \u001b[1m9s\u001b[0m 44ms/step - loss: 0.1226\n",
      "Epoch 2/10\n",
      "\u001b[1m53/53\u001b[0m \u001b[32m━━━━━━━━━━━━━━━━━━━━\u001b[0m\u001b[37m\u001b[0m \u001b[1m2s\u001b[0m 44ms/step - loss: 0.0060\n",
      "Epoch 3/10\n",
      "\u001b[1m53/53\u001b[0m \u001b[32m━━━━━━━━━━━━━━━━━━━━\u001b[0m\u001b[37m\u001b[0m \u001b[1m2s\u001b[0m 43ms/step - loss: 0.0055\n",
      "Epoch 4/10\n",
      "\u001b[1m53/53\u001b[0m \u001b[32m━━━━━━━━━━━━━━━━━━━━\u001b[0m\u001b[37m\u001b[0m \u001b[1m2s\u001b[0m 45ms/step - loss: 0.0048\n",
      "Epoch 5/10\n",
      "\u001b[1m53/53\u001b[0m \u001b[32m━━━━━━━━━━━━━━━━━━━━\u001b[0m\u001b[37m\u001b[0m \u001b[1m2s\u001b[0m 46ms/step - loss: 0.0045\n",
      "Epoch 6/10\n",
      "\u001b[1m53/53\u001b[0m \u001b[32m━━━━━━━━━━━━━━━━━━━━\u001b[0m\u001b[37m\u001b[0m \u001b[1m2s\u001b[0m 46ms/step - loss: 0.0043\n",
      "Epoch 7/10\n",
      "\u001b[1m53/53\u001b[0m \u001b[32m━━━━━━━━━━━━━━━━━━━━\u001b[0m\u001b[37m\u001b[0m \u001b[1m3s\u001b[0m 46ms/step - loss: 0.0038\n",
      "Epoch 8/10\n",
      "\u001b[1m53/53\u001b[0m \u001b[32m━━━━━━━━━━━━━━━━━━━━\u001b[0m\u001b[37m\u001b[0m \u001b[1m2s\u001b[0m 45ms/step - loss: 0.0040\n",
      "Epoch 9/10\n",
      "\u001b[1m53/53\u001b[0m \u001b[32m━━━━━━━━━━━━━━━━━━━━\u001b[0m\u001b[37m\u001b[0m \u001b[1m2s\u001b[0m 45ms/step - loss: 0.0035\n",
      "Epoch 10/10\n",
      "\u001b[1m53/53\u001b[0m \u001b[32m━━━━━━━━━━━━━━━━━━━━\u001b[0m\u001b[37m\u001b[0m \u001b[1m2s\u001b[0m 45ms/step - loss: 0.0030\n"
     ]
    }
   ],
   "source": [
    "tesla_LSTM = forecasting_model(data_tesla)\n",
    "google_LSTM = forecasting_model(data_google)\n",
    "nvidia_LSTM = forecasting_model(data_nvidia)\n",
    "amazon_LSTM = forecasting_model(data_amazon)\n",
    "meta_LSTM = forecasting_model(data_meta)"
   ]
  },
  {
   "cell_type": "code",
   "execution_count": 38,
   "metadata": {},
   "outputs": [],
   "source": [
    "with open(\"tesla_LSTM.pkl\",\"wb\") as f:\n",
    "    pickle.dump(tesla_LSTM,f)\n",
    "with open(\"google_LSTM.pkl\",\"wb\") as f:\n",
    "    pickle.dump(google_LSTM,f)\n",
    "with open(\"nvidia_LSTM.pkl\",\"wb\") as f:\n",
    "    pickle.dump(nvidia_LSTM,f)\n",
    "with open(\"amazon_LSTM.pkl\",\"wb\") as f:\n",
    "    pickle.dump(amazon_LSTM,f)\n",
    "with open(\"meta_LSTM.pkl\",\"wb\") as f:\n",
    "    pickle.dump(meta_LSTM,f)"
   ]
  },
  {
   "cell_type": "code",
   "execution_count": 40,
   "metadata": {},
   "outputs": [
    {
     "name": "stdout",
     "output_type": "stream",
     "text": [
      "\u001b[1m1/1\u001b[0m \u001b[32m━━━━━━━━━━━━━━━━━━━━\u001b[0m\u001b[37m\u001b[0m \u001b[1m0s\u001b[0m 21ms/step\n",
      "\u001b[1m1/1\u001b[0m \u001b[32m━━━━━━━━━━━━━━━━━━━━\u001b[0m\u001b[37m\u001b[0m \u001b[1m0s\u001b[0m 21ms/step\n",
      "\u001b[1m1/1\u001b[0m \u001b[32m━━━━━━━━━━━━━━━━━━━━\u001b[0m\u001b[37m\u001b[0m \u001b[1m0s\u001b[0m 20ms/step\n",
      "\u001b[1m1/1\u001b[0m \u001b[32m━━━━━━━━━━━━━━━━━━━━\u001b[0m\u001b[37m\u001b[0m \u001b[1m0s\u001b[0m 19ms/step\n",
      "\u001b[1m1/1\u001b[0m \u001b[32m━━━━━━━━━━━━━━━━━━━━\u001b[0m\u001b[37m\u001b[0m \u001b[1m0s\u001b[0m 16ms/step\n",
      "\u001b[1m1/1\u001b[0m \u001b[32m━━━━━━━━━━━━━━━━━━━━\u001b[0m\u001b[37m\u001b[0m \u001b[1m0s\u001b[0m 15ms/step\n",
      "\u001b[1m1/1\u001b[0m \u001b[32m━━━━━━━━━━━━━━━━━━━━\u001b[0m\u001b[37m\u001b[0m \u001b[1m0s\u001b[0m 21ms/step\n",
      "\u001b[1m1/1\u001b[0m \u001b[32m━━━━━━━━━━━━━━━━━━━━\u001b[0m\u001b[37m\u001b[0m \u001b[1m0s\u001b[0m 21ms/step\n",
      "\u001b[1m1/1\u001b[0m \u001b[32m━━━━━━━━━━━━━━━━━━━━\u001b[0m\u001b[37m\u001b[0m \u001b[1m0s\u001b[0m 17ms/step\n",
      "\u001b[1m1/1\u001b[0m \u001b[32m━━━━━━━━━━━━━━━━━━━━\u001b[0m\u001b[37m\u001b[0m \u001b[1m0s\u001b[0m 33ms/step\n",
      "\u001b[1m1/1\u001b[0m \u001b[32m━━━━━━━━━━━━━━━━━━━━\u001b[0m\u001b[37m\u001b[0m \u001b[1m0s\u001b[0m 21ms/step\n",
      "\u001b[1m1/1\u001b[0m \u001b[32m━━━━━━━━━━━━━━━━━━━━\u001b[0m\u001b[37m\u001b[0m \u001b[1m0s\u001b[0m 20ms/step\n",
      "\u001b[1m1/1\u001b[0m \u001b[32m━━━━━━━━━━━━━━━━━━━━\u001b[0m\u001b[37m\u001b[0m \u001b[1m0s\u001b[0m 18ms/step\n",
      "\u001b[1m1/1\u001b[0m \u001b[32m━━━━━━━━━━━━━━━━━━━━\u001b[0m\u001b[37m\u001b[0m \u001b[1m0s\u001b[0m 14ms/step\n",
      "\u001b[1m1/1\u001b[0m \u001b[32m━━━━━━━━━━━━━━━━━━━━\u001b[0m\u001b[37m\u001b[0m \u001b[1m0s\u001b[0m 29ms/step\n",
      "\u001b[1m1/1\u001b[0m \u001b[32m━━━━━━━━━━━━━━━━━━━━\u001b[0m\u001b[37m\u001b[0m \u001b[1m0s\u001b[0m 30ms/step\n",
      "\u001b[1m1/1\u001b[0m \u001b[32m━━━━━━━━━━━━━━━━━━━━\u001b[0m\u001b[37m\u001b[0m \u001b[1m0s\u001b[0m 26ms/step\n",
      "\u001b[1m1/1\u001b[0m \u001b[32m━━━━━━━━━━━━━━━━━━━━\u001b[0m\u001b[37m\u001b[0m \u001b[1m0s\u001b[0m 29ms/step\n",
      "\u001b[1m1/1\u001b[0m \u001b[32m━━━━━━━━━━━━━━━━━━━━\u001b[0m\u001b[37m\u001b[0m \u001b[1m0s\u001b[0m 28ms/step\n",
      "\u001b[1m1/1\u001b[0m \u001b[32m━━━━━━━━━━━━━━━━━━━━\u001b[0m\u001b[37m\u001b[0m \u001b[1m0s\u001b[0m 27ms/step\n",
      "\u001b[1m1/1\u001b[0m \u001b[32m━━━━━━━━━━━━━━━━━━━━\u001b[0m\u001b[37m\u001b[0m \u001b[1m0s\u001b[0m 20ms/step\n",
      "\u001b[1m1/1\u001b[0m \u001b[32m━━━━━━━━━━━━━━━━━━━━\u001b[0m\u001b[37m\u001b[0m \u001b[1m0s\u001b[0m 22ms/step\n",
      "\u001b[1m1/1\u001b[0m \u001b[32m━━━━━━━━━━━━━━━━━━━━\u001b[0m\u001b[37m\u001b[0m \u001b[1m0s\u001b[0m 21ms/step\n",
      "\u001b[1m1/1\u001b[0m \u001b[32m━━━━━━━━━━━━━━━━━━━━\u001b[0m\u001b[37m\u001b[0m \u001b[1m0s\u001b[0m 13ms/step\n",
      "Predicted price in 1 hours: 213.43\n",
      "Predicted price in 2 hours: 213.41\n",
      "Predicted price in 3 hours: 213.40\n",
      "Predicted price in 4 hours: 213.39\n",
      "Predicted price in 5 hours: 213.38\n",
      "Predicted price in 6 hours: 213.38\n",
      "Predicted price in 7 hours: 213.38\n",
      "Predicted price in 8 hours: 213.39\n",
      "Predicted price in 9 hours: 213.39\n",
      "Predicted price in 10 hours: 213.39\n",
      "Predicted price in 11 hours: 213.39\n",
      "Predicted price in 12 hours: 213.39\n",
      "Predicted price in 13 hours: 213.39\n",
      "Predicted price in 14 hours: 213.39\n",
      "Predicted price in 15 hours: 213.39\n",
      "Predicted price in 16 hours: 213.39\n",
      "Predicted price in 17 hours: 213.38\n",
      "Predicted price in 18 hours: 213.38\n",
      "Predicted price in 19 hours: 213.37\n",
      "Predicted price in 20 hours: 213.37\n",
      "Predicted price in 21 hours: 213.36\n",
      "Predicted price in 22 hours: 213.36\n",
      "Predicted price in 23 hours: 213.35\n",
      "Predicted price in 24 hours: 213.35\n"
     ]
    }
   ],
   "source": [
    "predictions = []\n",
    "\n",
    "# Start with the last 'look_back' days of data\n",
    "look_back = 60\n",
    "last_look_back = scaled_data[-look_back:]\n",
    "current_input = last_look_back\n",
    "\n",
    "for _ in range(24):\n",
    "    current_input = np.reshape(current_input, (1, look_back, 1))\n",
    "    next_predicted_price_scaled = model.predict(current_input)\n",
    "    next_predicted_price = scaler.inverse_transform(next_predicted_price_scaled)\n",
    "    predictions.append(next_predicted_price[0][0])\n",
    "\n",
    "    # Update the input sequence to include the latest prediction and remove the oldest one\n",
    "    next_value_scaled = next_predicted_price_scaled[0]\n",
    "    current_input = np.append(current_input[0][1:], next_value_scaled)\n",
    "    current_input = np.reshape(current_input, (1, look_back, 1))\n",
    "\n",
    "# Display the predicted prices for the next 24 hours\n",
    "for i, price in enumerate(predictions):\n",
    "    print(f'Predicted price in {i+1} hours: {price:.2f}')"
   ]
  },
  {
   "cell_type": "code",
   "execution_count": 41,
   "metadata": {},
   "outputs": [
    {
     "data": {
      "text/plain": [
       "[213.42966,\n",
       " 213.40991,\n",
       " 213.39586,\n",
       " 213.38744,\n",
       " 213.38353,\n",
       " 213.38275,\n",
       " 213.3839,\n",
       " 213.38602,\n",
       " 213.3883,\n",
       " 213.3903,\n",
       " 213.39166,\n",
       " 213.39227,\n",
       " 213.39201,\n",
       " 213.39088,\n",
       " 213.38892,\n",
       " 213.3862,\n",
       " 213.3828,\n",
       " 213.37874,\n",
       " 213.37416,\n",
       " 213.3691,\n",
       " 213.36366,\n",
       " 213.35786,\n",
       " 213.35179,\n",
       " 213.34546]"
      ]
     },
     "execution_count": 41,
     "metadata": {},
     "output_type": "execute_result"
    }
   ],
   "source": [
    "predictions"
   ]
  },
  {
   "cell_type": "code",
   "execution_count": 42,
   "metadata": {},
   "outputs": [
    {
     "name": "stderr",
     "output_type": "stream",
     "text": [
      "C:\\Users\\Asus\\AppData\\Local\\Temp\\ipykernel_20732\\1424364726.py:5: FutureWarning: 'H' is deprecated and will be removed in a future version, please use 'h' instead.\n",
      "  time_range = pd.date_range(start=data.index[-1], periods=25, freq='H')[1:]\n"
     ]
    },
    {
     "data": {
      "image/png": "[encoded data removed]",
      "text/plain": [
       "<Figure size 1000x500 with 1 Axes>"
      ]
     },
     "metadata": {},
     "output_type": "display_data"
    }
   ],
   "source": [
    "import matplotlib.pyplot as plt\n",
    "import pandas as pd\n",
    "\n",
    "# Create a time range for the next 24 hours\n",
    "time_range = pd.date_range(start=data.index[-1], periods=25, freq='H')[1:]\n",
    "\n",
    "# Plot the forecasted prices\n",
    "plt.figure(figsize=(10, 5))\n",
    "plt.plot(time_range, predictions, color='blue', label='Forecasted Prices')\n",
    "plt.title('Stock Price Forecast for the Next 24 Hours')\n",
    "plt.xlabel('Time')\n",
    "plt.ylabel('Price')\n",
    "plt.legend()\n",
    "plt.show()"
   ]
  }
 ],
 "metadata": {
  "kernelspec": {
   "display_name": "pytorch",
   "language": "python",
   "name": "python3"
  },
  "language_info": {
   "codemirror_mode": {
    "name": "ipython",
    "version": 3
   },
   "file_extension": ".py",
   "mimetype": "text/x-python",
   "name": "python",
   "nbconvert_exporter": "python",
   "pygments_lexer": "ipython3",
   "version": "3.10.14"
  }
 },
 "nbformat": 4,
 "nbformat_minor": 2
}
